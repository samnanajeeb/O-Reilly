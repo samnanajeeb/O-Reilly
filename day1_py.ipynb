{
  "nbformat": 4,
  "nbformat_minor": 0,
  "metadata": {
    "colab": {
      "name": "day1.py",
      "provenance": [],
      "collapsed_sections": [],
      "authorship_tag": "ABX9TyPWWtVGRQJkzD8oBj7XfB2T",
      "include_colab_link": true
    },
    "kernelspec": {
      "name": "python3",
      "display_name": "Python 3"
    },
    "language_info": {
      "name": "python"
    }
  },
  "cells": [
    {
      "cell_type": "markdown",
      "metadata": {
        "id": "view-in-github",
        "colab_type": "text"
      },
      "source": [
        "<a href=\"https://colab.research.google.com/github/samnanajeeb/O-Reilly-python-training/blob/main/day1_py.ipynb\" target=\"_parent\"><img src=\"https://colab.research.google.com/assets/colab-badge.svg\" alt=\"Open In Colab\"/></a>"
      ]
    },
    {
      "cell_type": "code",
      "execution_count": null,
      "metadata": {
        "id": "47oPajPy-ulG"
      },
      "outputs": [],
      "source": [
        "print(\"learning_colab_IDE\")"
      ]
    },
    {
      "cell_type": "code",
      "source": [
        "print(10 + 20)"
      ],
      "metadata": {
        "colab": {
          "base_uri": "https://localhost:8080/"
        },
        "id": "3UOhT0VCP2bk",
        "outputId": "d4a5a513-ef51-4d9f-df8c-b8ba981de12d"
      },
      "execution_count": 1,
      "outputs": [
        {
          "output_type": "stream",
          "name": "stdout",
          "text": [
            "30\n"
          ]
        }
      ]
    },
    {
      "cell_type": "code",
      "source": [
        "10 + 30"
      ],
      "metadata": {
        "colab": {
          "base_uri": "https://localhost:8080/"
        },
        "id": "qvCMpd_vQBBo",
        "outputId": "887476d8-61f0-476c-98b3-a7969cf11516"
      },
      "execution_count": 2,
      "outputs": [
        {
          "output_type": "execute_result",
          "data": {
            "text/plain": [
              "40"
            ]
          },
          "metadata": {},
          "execution_count": 2
        }
      ]
    },
    {
      "cell_type": "code",
      "source": [
        "#Exercise - simple calculator\n",
        "x = 10\n",
        "y = 30\n",
        "print(x + y)"
      ],
      "metadata": {
        "colab": {
          "base_uri": "https://localhost:8080/"
        },
        "id": "G4Y78gDNVG4F",
        "outputId": "93639abc-7a83-43c5-a495-ed8e2aaddf06"
      },
      "execution_count": 4,
      "outputs": [
        {
          "output_type": "stream",
          "name": "stdout",
          "text": [
            "40\n"
          ]
        }
      ]
    },
    {
      "cell_type": "code",
      "source": [
        "name = 'samna'\n",
        "print('Hello ,' + name + '.')"
      ],
      "metadata": {
        "colab": {
          "base_uri": "https://localhost:8080/"
        },
        "id": "WuPfJcxKVvvA",
        "outputId": "b399b17f-1161-4643-eb15-1e836cc09068"
      },
      "execution_count": 5,
      "outputs": [
        {
          "output_type": "stream",
          "name": "stdout",
          "text": [
            "Hello ,samna.\n"
          ]
        }
      ]
    },
    {
      "cell_type": "code",
      "source": [
        "print('Hello ,' + name)"
      ],
      "metadata": {
        "colab": {
          "base_uri": "https://localhost:8080/"
        },
        "id": "5RXHARo-XGx3",
        "outputId": "04bfcbe1-1707-467a-fd86-d4b05a75113f"
      },
      "execution_count": 6,
      "outputs": [
        {
          "output_type": "stream",
          "name": "stdout",
          "text": [
            "Hello ,samna\n"
          ]
        }
      ]
    },
    {
      "cell_type": "code",
      "source": [
        "#Exercise 2\n",
        "name = input(\"Enter your name: \")\n",
        "country = input(\"Enter your country name: \")\n",
        "print(f\"Hello, {name}. Welcome to India. Its nice to have you from {country}\")"
      ],
      "metadata": {
        "colab": {
          "base_uri": "https://localhost:8080/"
        },
        "id": "odeVnFGwaDdo",
        "outputId": "50b7205f-dc9b-414c-ea3b-355d032df6d2"
      },
      "execution_count": 7,
      "outputs": [
        {
          "output_type": "stream",
          "name": "stdout",
          "text": [
            "Enter your name: sam\n",
            "Enter your country name: Canada\n",
            "Hello, sam. Welcome to India. Its nice to have you from Canada\n"
          ]
        }
      ]
    },
    {
      "cell_type": "code",
      "source": [
        "name == \"samna\""
      ],
      "metadata": {
        "colab": {
          "base_uri": "https://localhost:8080/"
        },
        "id": "5l8Hjl6Tctfv",
        "outputId": "ea526202-f3f5-4e91-d09a-7e2822822d62"
      },
      "execution_count": 10,
      "outputs": [
        {
          "output_type": "execute_result",
          "data": {
            "text/plain": [
              "True"
            ]
          },
          "metadata": {},
          "execution_count": 10
        }
      ]
    },
    {
      "cell_type": "code",
      "source": [
        "name == \"najeeb\""
      ],
      "metadata": {
        "colab": {
          "base_uri": "https://localhost:8080/"
        },
        "id": "MPlfDCixczkz",
        "outputId": "f21b6db0-12f8-49bd-cb12-f8b2d1c88ae1"
      },
      "execution_count": 11,
      "outputs": [
        {
          "output_type": "execute_result",
          "data": {
            "text/plain": [
              "False"
            ]
          },
          "metadata": {},
          "execution_count": 11
        }
      ]
    },
    {
      "cell_type": "code",
      "source": [
        "\"samna\" == \"samna\""
      ],
      "metadata": {
        "colab": {
          "base_uri": "https://localhost:8080/"
        },
        "id": "F2yCUCVJc2S1",
        "outputId": "2518eb27-f221-48af-91f3-4bb6a3fe8afd"
      },
      "execution_count": 12,
      "outputs": [
        {
          "output_type": "execute_result",
          "data": {
            "text/plain": [
              "True"
            ]
          },
          "metadata": {},
          "execution_count": 12
        }
      ]
    },
    {
      "cell_type": "code",
      "source": [
        "name = input(\"Enter your name:\")\n",
        "\n",
        "if name == \"samna\":\n",
        "  print(\"Hello, Boss!\")\n",
        "else:\n",
        "  print(f\"Hello, {name}\")\n",
        "\n",
        "\n",
        "\n"
      ],
      "metadata": {
        "colab": {
          "base_uri": "https://localhost:8080/"
        },
        "id": "6YiCZFnUdGth",
        "outputId": "c02c1134-fd8c-440e-b909-55072186d5b5"
      },
      "execution_count": 14,
      "outputs": [
        {
          "output_type": "stream",
          "name": "stdout",
          "text": [
            "Enter your name:sooraj\n",
            "Hello, sooraj\n"
          ]
        }
      ]
    },
    {
      "cell_type": "code",
      "source": [
        "x = input(\"Please enter the first word: \")\n",
        "y = input(\"Please enter the second word: \")\n",
        "if x == y :\n",
        "  print(f\"{x} is equal {y}\")\n",
        "else:\n",
        "  print(f\"{x} not equal to {y}\")"
      ],
      "metadata": {
        "colab": {
          "base_uri": "https://localhost:8080/"
        },
        "id": "nPx5ZQ2Df8qe",
        "outputId": "c7168e35-a8e3-41de-bcdf-de32336f285e"
      },
      "execution_count": 16,
      "outputs": [
        {
          "output_type": "stream",
          "name": "stdout",
          "text": [
            "Please enter the first word: sam\n",
            "Please enter the second word: sam\n",
            "sam is equal sam\n"
          ]
        }
      ]
    },
    {
      "cell_type": "code",
      "source": [
        ""
      ],
      "metadata": {
        "id": "uKubFK1ImugB"
      },
      "execution_count": null,
      "outputs": []
    },
    {
      "cell_type": "code",
      "source": [
        ""
      ],
      "metadata": {
        "id": "PwbP9lF5mwD7"
      },
      "execution_count": null,
      "outputs": []
    },
    {
      "cell_type": "code",
      "source": [
        "x = input(\"Please enter the first word: \")\n",
        "y = input(\"Please enter the second word: \")\n",
        "\n",
        "if x < y:\n",
        "  print(f\"{x} comes before {y}\")\n",
        "else:\n",
        "  print(f\"{y} comes before {x}\")\n"
      ],
      "metadata": {
        "colab": {
          "base_uri": "https://localhost:8080/"
        },
        "id": "SwHAeSArhd1o",
        "outputId": "975367ff-ea40-42bd-bf58-bbb134d5f374"
      },
      "execution_count": 20,
      "outputs": [
        {
          "output_type": "stream",
          "name": "stdout",
          "text": [
            "Please enter the first word: Zebra\n",
            "Please enter the second word: lion\n",
            "Zebra comes before lion\n"
          ]
        }
      ]
    },
    {
      "cell_type": "code",
      "source": [
        "ord(a)"
      ],
      "metadata": {
        "colab": {
          "base_uri": "https://localhost:8080/",
          "height": 169
        },
        "id": "bot4ZkBpmBKF",
        "outputId": "5fffb70a-0494-46e4-a088-a5fb38685b1c"
      },
      "execution_count": 21,
      "outputs": [
        {
          "output_type": "error",
          "ename": "NameError",
          "evalue": "ignored",
          "traceback": [
            "\u001b[0;31m---------------------------------------------------------------------------\u001b[0m",
            "\u001b[0;31mNameError\u001b[0m                                 Traceback (most recent call last)",
            "\u001b[0;32m<ipython-input-21-a5abd646a6a9>\u001b[0m in \u001b[0;36m<module>\u001b[0;34m()\u001b[0m\n\u001b[0;32m----> 1\u001b[0;31m \u001b[0mord\u001b[0m\u001b[0;34m(\u001b[0m\u001b[0ma\u001b[0m\u001b[0;34m)\u001b[0m\u001b[0;34m\u001b[0m\u001b[0;34m\u001b[0m\u001b[0m\n\u001b[0m",
            "\u001b[0;31mNameError\u001b[0m: name 'a' is not defined"
          ]
        }
      ]
    },
    {
      "cell_type": "code",
      "source": [
        "ord(\"a\")"
      ],
      "metadata": {
        "colab": {
          "base_uri": "https://localhost:8080/"
        },
        "id": "SQxiJydumEd6",
        "outputId": "449ea286-ff3e-4369-ea53-38c1b48c2a85"
      },
      "execution_count": 22,
      "outputs": [
        {
          "output_type": "execute_result",
          "data": {
            "text/plain": [
              "97"
            ]
          },
          "metadata": {},
          "execution_count": 22
        }
      ]
    },
    {
      "cell_type": "code",
      "source": [
        "ord( \"A\" )"
      ],
      "metadata": {
        "colab": {
          "base_uri": "https://localhost:8080/"
        },
        "id": "igk85QRSmJb-",
        "outputId": "2aa2d156-a2b4-4292-be54-12afcbdf6412"
      },
      "execution_count": 24,
      "outputs": [
        {
          "output_type": "execute_result",
          "data": {
            "text/plain": [
              "65"
            ]
          },
          "metadata": {},
          "execution_count": 24
        }
      ]
    },
    {
      "cell_type": "code",
      "source": [
        "x = input(\"Enter the first word: \")\n",
        "y = input(\"Enter the second word: \")\n",
        "if x == y:\n",
        "  print(f\"{x} is same as {y}\")\n",
        "elif x < y:\n",
        "  print(f\"{x} comes before {y}\")\n",
        "else:\n",
        "  print(f\"{y} comes before {x}\")"
      ],
      "metadata": {
        "colab": {
          "base_uri": "https://localhost:8080/"
        },
        "id": "94VXyq3gmxdG",
        "outputId": "05e69a42-a863-489a-c65b-c7638edf29d1"
      },
      "execution_count": 25,
      "outputs": [
        {
          "output_type": "stream",
          "name": "stdout",
          "text": [
            "Enter the first word: egg\n",
            "Enter the second word: chicken\n",
            "chicken comes before egg\n"
          ]
        }
      ]
    },
    {
      "cell_type": "code",
      "source": [
        "#exercise 3:\n",
        "\"\"\"Ask the user their name, and assign to name.\n",
        "Ask the user their company, and assign to company.\n",
        "Check if the user's name and company are the same as yours:\n",
        "If both are the same, say that it must be you\n",
        "If name is the same, say you have the same name, but work at different companies\n",
        "If company is the same, say that you are colleagues\n",
        "If neither is the same, then say something snarky to the\"\"\"\n",
        "\n",
        "name = input(\"Enter your name: \")\n",
        "company = input(\"Enter your company: \")\n",
        "if name == \"samna\" and company == \"Kyndryl\":\n",
        "  print(\"Thats me!\")\n",
        "elif name == \"samna\" and company != \"Kyndryl\":\n",
        "  print(\"You have the same name!\")\n",
        "elif name != \"samna\" and company == \"Kyndryl\":\n",
        "  print(\"We are colleagues\")\n",
        "else:\n",
        "  print(\"name and company differs. unknown person\")\n"
      ],
      "metadata": {
        "colab": {
          "base_uri": "https://localhost:8080/"
        },
        "id": "pnQF6xkXqPAR",
        "outputId": "37d14041-3c99-463a-b90f-c8530494fe30"
      },
      "execution_count": 27,
      "outputs": [
        {
          "output_type": "stream",
          "name": "stdout",
          "text": [
            "Enter your name: samna\n",
            "Enter your company: IBM\n",
            "You have the same name!\n"
          ]
        }
      ]
    },
    {
      "cell_type": "code",
      "source": [
        "print(\"samna\")"
      ],
      "metadata": {
        "id": "ej5zPKC0qSCh"
      },
      "execution_count": null,
      "outputs": []
    },
    {
      "cell_type": "code",
      "source": [
        "\"\"\" Guessing a random number game \"\"\"\n",
        "import random\n",
        "number = random.randint(1,100)\n",
        "print(f'{number}')\n",
        "guess_number = int(input(\"Guess the number: \"))\n",
        "if guess_number == number:\n",
        "  print(\"Just right\")\n",
        "elif guess_number > number:\n",
        "  print(\"Too high\")\n",
        "else:\n",
        "  print(\"Too Low\")\n"
      ],
      "metadata": {
        "colab": {
          "base_uri": "https://localhost:8080/"
        },
        "id": "GGIWKwmDvQlO",
        "outputId": "36538e73-b7f7-4176-f63c-b7048150c845"
      },
      "execution_count": 51,
      "outputs": [
        {
          "output_type": "stream",
          "name": "stdout",
          "text": [
            "84\n",
            "Guess the number: 10\n",
            "Too Low\n"
          ]
        }
      ]
    },
    {
      "cell_type": "code",
      "source": [
        "n = 30\n",
        "print( n * 3)"
      ],
      "metadata": {
        "colab": {
          "base_uri": "https://localhost:8080/"
        },
        "id": "AhoDLg5AvRXV",
        "outputId": "3b96b5a1-127d-4d31-f4c0-77f1fd6079b6"
      },
      "execution_count": 52,
      "outputs": [
        {
          "output_type": "stream",
          "name": "stdout",
          "text": [
            "90\n"
          ]
        }
      ]
    },
    {
      "cell_type": "code",
      "source": [
        ""
      ],
      "metadata": {
        "id": "z3lLdZlu8aWr"
      },
      "execution_count": null,
      "outputs": []
    },
    {
      "cell_type": "code",
      "source": [
        "\"\"\"Exercise: Pig Latin\n",
        "Pig Latin is a children's word game in many English-speaking countries. The idea is that it's a \"secret language.\"\n",
        "\n",
        "The rules of translating an English word into Pig Latin are as follows:\n",
        "\n",
        "Check the first letter. Is it a vowel?\n",
        "\n",
        "- If so, then add `way` to the word.\n",
        "- If not, then move the first letter to the end of the word, and add `ay`.\n",
        "\n",
        "Examples:\n",
        "\n",
        "apple -> appleway\n",
        "octopus -> octopusway\n",
        "elephant -> elephantway\n",
        "table -> abletay (moved the t to the end, and added ay\n",
        "computer -> omputercay (moved the c to the end, and added ay\n",
        "papaya -> apayapay (moved the p to the end, and added ay\n",
        "Write a program that asks the user to enter a word, and prints the word in Pig Latin.\"\"\"\n",
        "\n",
        "\n",
        "secret_word  = str(input(\"Please enter the secret word: \"))\n",
        "#print(secret_word[0])\n",
        "vowels = \"aeiou\"\n",
        "if secret_word[0] in vowels:\n",
        "  print(f\"{secret_word}\" + \"way\")\n",
        "else:\n",
        "  print(f\"{secret_word[1:n]}{secret_word[0]}\" + \"ay\")\n",
        "  "
      ],
      "metadata": {
        "colab": {
          "base_uri": "https://localhost:8080/"
        },
        "id": "xb6POlWA2kGH",
        "outputId": "a76e5e5c-0dc4-4e1a-afad-0d4baf2f7795"
      },
      "execution_count": null,
      "outputs": [
        {
          "output_type": "stream",
          "name": "stdout",
          "text": [
            "Please enter the secret word: table\n",
            "abletay\n"
          ]
        }
      ]
    }
  ]
}