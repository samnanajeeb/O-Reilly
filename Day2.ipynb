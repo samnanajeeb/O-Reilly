{
  "nbformat": 4,
  "nbformat_minor": 0,
  "metadata": {
    "colab": {
      "name": "Day2.ipynb",
      "provenance": [],
      "authorship_tag": "ABX9TyNU13GPq9VU1qUvyyPQAPcE",
      "include_colab_link": true
    },
    "kernelspec": {
      "name": "python3",
      "display_name": "Python 3"
    },
    "language_info": {
      "name": "python"
    }
  },
  "cells": [
    {
      "cell_type": "markdown",
      "metadata": {
        "id": "view-in-github",
        "colab_type": "text"
      },
      "source": [
        "<a href=\"https://colab.research.google.com/github/samnanajeeb/O-Reilly-python-training/blob/main/Day2.ipynb\" target=\"_parent\"><img src=\"https://colab.research.google.com/assets/colab-badge.svg\" alt=\"Open In Colab\"/></a>"
      ]
    },
    {
      "cell_type": "code",
      "execution_count": 1,
      "metadata": {
        "colab": {
          "base_uri": "https://localhost:8080/"
        },
        "id": "I-ZRL_WCNm99",
        "outputId": "9d688b2b-8cda-4829-fa5f-1206af662a02"
      },
      "outputs": [
        {
          "output_type": "stream",
          "name": "stdout",
          "text": [
            "Day 2\n"
          ]
        }
      ],
      "source": [
        "print(\"Day 2\")"
      ]
    },
    {
      "cell_type": "markdown",
      "source": [
        "Welcome to week 2!\n",
        "Loops\n",
        "What are loops for?\n",
        "for loops\n",
        "Looping a number of times\n",
        "while loops\n",
        "Lists (collections)\n",
        "How to create lists\n",
        "Working with lists\n",
        "Lists are mutable\n",
        "Strings to lists (and back)\n",
        "str.split method\n",
        "str.join method\n",
        "Tuples\n",
        "Tuple unpacking"
      ],
      "metadata": {
        "id": "KkT_gIF9OTQN"
      }
    },
    {
      "cell_type": "code",
      "source": [
        "\"\"\" Exercise: Vowel and others counter\n",
        "Define two variables, vowels and others, and set them both to be 0.\n",
        "Ask the user to enter a string (with input).\n",
        "Go through each character in the string, and check if it is a vowel.\n",
        "If so, then add 1 to vowels\n",
        "If not, then add 1 to others\n",
        "When the loop is done,\"\"\"\n",
        "\n",
        "\n",
        "vowels = 0\n",
        "other = 0\n",
        "user_word = input(\"Please enter a word: \").strip()\n",
        "for check_vowel in user_word:\n",
        "  if check_vowel in \"aeiou\":\n",
        "    vowels += 1\n",
        "  else:\n",
        "    other += 1\n",
        "\n",
        "print(f'vowels = {vowels}')\n",
        "print(f'others = {other}')\n",
        "\n"
      ],
      "metadata": {
        "colab": {
          "base_uri": "https://localhost:8080/"
        },
        "id": "kLIQVHEZOVZS",
        "outputId": "927fc56c-060a-41f8-fa56-d90d234d0b6e"
      },
      "execution_count": 3,
      "outputs": [
        {
          "output_type": "stream",
          "name": "stdout",
          "text": [
            "Please enter a word: i am samna\n",
            "vowels = 4\n",
            "others = 6\n"
          ]
        }
      ]
    },
    {
      "cell_type": "code",
      "source": [
        ""
      ],
      "metadata": {
        "id": "E29nc78lV3iu"
      },
      "execution_count": null,
      "outputs": []
    }
  ]
}