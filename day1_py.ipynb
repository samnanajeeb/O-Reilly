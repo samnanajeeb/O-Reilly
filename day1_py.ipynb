{
  "nbformat": 4,
  "nbformat_minor": 0,
  "metadata": {
    "colab": {
      "name": "day1.py",
      "provenance": [],
      "authorship_tag": "ABX9TyP+TB2ggKTW+H5fCKusA15c",
      "include_colab_link": true
    },
    "kernelspec": {
      "name": "python3",
      "display_name": "Python 3"
    },
    "language_info": {
      "name": "python"
    }
  },
  "cells": [
    {
      "cell_type": "markdown",
      "metadata": {
        "id": "view-in-github",
        "colab_type": "text"
      },
      "source": [
        "<a href=\"https://colab.research.google.com/github/samnanajeeb/O-Reilly-python-training/blob/main/day1_py.ipynb\" target=\"_parent\"><img src=\"https://colab.research.google.com/assets/colab-badge.svg\" alt=\"Open In Colab\"/></a>"
      ]
    },
    {
      "cell_type": "code",
      "execution_count": null,
      "metadata": {
        "id": "47oPajPy-ulG"
      },
      "outputs": [],
      "source": [
        "print(\"learning_colab_IDE\")"
      ]
    },
    {
      "cell_type": "code",
      "source": [
        "print(10 + 20)"
      ],
      "metadata": {
        "id": "3UOhT0VCP2bk",
        "outputId": "d4a5a513-ef51-4d9f-df8c-b8ba981de12d",
        "colab": {
          "base_uri": "https://localhost:8080/"
        }
      },
      "execution_count": 1,
      "outputs": [
        {
          "output_type": "stream",
          "name": "stdout",
          "text": [
            "30\n"
          ]
        }
      ]
    },
    {
      "cell_type": "code",
      "source": [
        "10 + 30"
      ],
      "metadata": {
        "id": "qvCMpd_vQBBo",
        "outputId": "887476d8-61f0-476c-98b3-a7969cf11516",
        "colab": {
          "base_uri": "https://localhost:8080/"
        }
      },
      "execution_count": 2,
      "outputs": [
        {
          "output_type": "execute_result",
          "data": {
            "text/plain": [
              "40"
            ]
          },
          "metadata": {},
          "execution_count": 2
        }
      ]
    },
    {
      "cell_type": "code",
      "source": [
        "#Exercise - simple calculator\n",
        "x = 10\n",
        "y = 30\n",
        "print(x + y)"
      ],
      "metadata": {
        "id": "G4Y78gDNVG4F",
        "outputId": "93639abc-7a83-43c5-a495-ed8e2aaddf06",
        "colab": {
          "base_uri": "https://localhost:8080/"
        }
      },
      "execution_count": 4,
      "outputs": [
        {
          "output_type": "stream",
          "name": "stdout",
          "text": [
            "40\n"
          ]
        }
      ]
    },
    {
      "cell_type": "code",
      "source": [
        "name = 'samna'\n",
        "print('Hello ,' + name + '.')"
      ],
      "metadata": {
        "id": "WuPfJcxKVvvA",
        "outputId": "b399b17f-1161-4643-eb15-1e836cc09068",
        "colab": {
          "base_uri": "https://localhost:8080/"
        }
      },
      "execution_count": 5,
      "outputs": [
        {
          "output_type": "stream",
          "name": "stdout",
          "text": [
            "Hello ,samna.\n"
          ]
        }
      ]
    },
    {
      "cell_type": "code",
      "source": [
        "print('Hello ,' + name)"
      ],
      "metadata": {
        "id": "5RXHARo-XGx3",
        "outputId": "04bfcbe1-1707-467a-fd86-d4b05a75113f",
        "colab": {
          "base_uri": "https://localhost:8080/"
        }
      },
      "execution_count": 6,
      "outputs": [
        {
          "output_type": "stream",
          "name": "stdout",
          "text": [
            "Hello ,samna\n"
          ]
        }
      ]
    },
    {
      "cell_type": "code",
      "source": [
        "#Exercise 2\n",
        "name = input(\"Enter your name: \")\n",
        "country = input(\"Enter your country name: \")\n",
        "print(f\"Hello, {name}. Welcome to India. Its nice to have you from {country}\")"
      ],
      "metadata": {
        "id": "odeVnFGwaDdo",
        "outputId": "50b7205f-dc9b-414c-ea3b-355d032df6d2",
        "colab": {
          "base_uri": "https://localhost:8080/"
        }
      },
      "execution_count": 7,
      "outputs": [
        {
          "output_type": "stream",
          "name": "stdout",
          "text": [
            "Enter your name: sam\n",
            "Enter your country name: Canada\n",
            "Hello, sam. Welcome to India. Its nice to have you from Canada\n"
          ]
        }
      ]
    },
    {
      "cell_type": "code",
      "source": [
        "name == \"samna\""
      ],
      "metadata": {
        "id": "5l8Hjl6Tctfv",
        "outputId": "ea526202-f3f5-4e91-d09a-7e2822822d62",
        "colab": {
          "base_uri": "https://localhost:8080/"
        }
      },
      "execution_count": 10,
      "outputs": [
        {
          "output_type": "execute_result",
          "data": {
            "text/plain": [
              "True"
            ]
          },
          "metadata": {},
          "execution_count": 10
        }
      ]
    },
    {
      "cell_type": "code",
      "source": [
        "name == \"najeeb\""
      ],
      "metadata": {
        "id": "MPlfDCixczkz",
        "outputId": "f21b6db0-12f8-49bd-cb12-f8b2d1c88ae1",
        "colab": {
          "base_uri": "https://localhost:8080/"
        }
      },
      "execution_count": 11,
      "outputs": [
        {
          "output_type": "execute_result",
          "data": {
            "text/plain": [
              "False"
            ]
          },
          "metadata": {},
          "execution_count": 11
        }
      ]
    },
    {
      "cell_type": "code",
      "source": [
        "\"samna\" == \"samna\""
      ],
      "metadata": {
        "id": "F2yCUCVJc2S1",
        "outputId": "2518eb27-f221-48af-91f3-4bb6a3fe8afd",
        "colab": {
          "base_uri": "https://localhost:8080/"
        }
      },
      "execution_count": 12,
      "outputs": [
        {
          "output_type": "execute_result",
          "data": {
            "text/plain": [
              "True"
            ]
          },
          "metadata": {},
          "execution_count": 12
        }
      ]
    },
    {
      "cell_type": "code",
      "source": [
        "name = input(\"Enter your name:\")\n",
        "\n",
        "if name == \"samna\":\n",
        "  print(\"Hello, Boss!\")\n",
        "else:\n",
        "  print(f\"Hello, {name}\")\n",
        "\n",
        "\n",
        "\n"
      ],
      "metadata": {
        "id": "6YiCZFnUdGth",
        "outputId": "c02c1134-fd8c-440e-b909-55072186d5b5",
        "colab": {
          "base_uri": "https://localhost:8080/"
        }
      },
      "execution_count": 14,
      "outputs": [
        {
          "output_type": "stream",
          "name": "stdout",
          "text": [
            "Enter your name:sooraj\n",
            "Hello, sooraj\n"
          ]
        }
      ]
    }
  ]
}